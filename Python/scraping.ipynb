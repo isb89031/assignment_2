{
 "cells": [
  {
   "cell_type": "markdown",
   "id": "eaf1d339",
   "metadata": {},
   "source": [
    "## Introduction\n",
    "\n",
    "In this Jupyter notebook we want to scrap the csv example on cars in the Wikipedia page and save the resulting output in the local folder \n",
    "\n",
    "\n",
    "### Load the library"
   ]
  },
  {
   "cell_type": "code",
   "execution_count": 1,
   "id": "4c27e948",
   "metadata": {},
   "outputs": [],
   "source": [
    "from bs4 import BeautifulSoup\n",
    "import requests"
   ]
  },
  {
   "cell_type": "markdown",
   "id": "bf1f4a0c",
   "metadata": {},
   "source": [
    "### Get the csv example\n",
    "\n",
    "Load in the html"
   ]
  },
  {
   "cell_type": "code",
   "execution_count": 2,
   "id": "fe0207d1",
   "metadata": {},
   "outputs": [],
   "source": [
    "csv_wiki = requests.get(\"https://en.wikipedia.org/wiki/Comma-separated_values\")\n",
    "soup = BeautifulSoup(csv_wiki.text, 'html.parser')"
   ]
  },
  {
   "cell_type": "markdown",
   "id": "3e118b4f",
   "metadata": {},
   "source": [
    "Get the csv example under the header \"Example\""
   ]
  },
  {
   "cell_type": "code",
   "execution_count": 3,
   "id": "fa714ace",
   "metadata": {
    "scrolled": true
   },
   "outputs": [
    {
     "data": {
      "text/plain": [
       "'Year,Make,Model,Description,Price\\n1997,Ford,E350,\"ac, abs, moon\",3000.00\\n1999,Chevy,\"Venture \"\"Extended Edition\"\"\",\"\",4900.00\\n1999,Chevy,\"Venture \"\"Extended Edition, Very Large\"\"\",,5000.00\\n1996,Jeep,Grand Cherokee,\"MUST SELL!\\nair, moon roof, loaded\",4799.00\\n'"
      ]
     },
     "execution_count": 3,
     "metadata": {},
     "output_type": "execute_result"
    }
   ],
   "source": [
    "ths = soup.find(id='Example')\n",
    "table = ths.findNext('pre').text\n",
    "table"
   ]
  },
  {
   "cell_type": "markdown",
   "id": "462a29d5",
   "metadata": {},
   "source": [
    "### Save the csv example into a csv file"
   ]
  },
  {
   "cell_type": "code",
   "execution_count": 5,
   "id": "a018893e",
   "metadata": {},
   "outputs": [],
   "source": [
    "f = open('car.csv', 'w')\n",
    "f.write(table)\n",
    "f.close()"
   ]
  },
  {
   "cell_type": "markdown",
   "id": "5771aca6",
   "metadata": {},
   "source": [
    "\n",
    "Reload the csv data from the file to make sure the data was saved properly"
   ]
  },
  {
   "cell_type": "code",
   "execution_count": 6,
   "id": "72a3fa0d",
   "metadata": {},
   "outputs": [
    {
     "data": {
      "text/html": [
       "<div>\n",
       "<style scoped>\n",
       "    .dataframe tbody tr th:only-of-type {\n",
       "        vertical-align: middle;\n",
       "    }\n",
       "\n",
       "    .dataframe tbody tr th {\n",
       "        vertical-align: top;\n",
       "    }\n",
       "\n",
       "    .dataframe thead th {\n",
       "        text-align: right;\n",
       "    }\n",
       "</style>\n",
       "<table border=\"1\" class=\"dataframe\">\n",
       "  <thead>\n",
       "    <tr style=\"text-align: right;\">\n",
       "      <th></th>\n",
       "      <th>Year</th>\n",
       "      <th>Make</th>\n",
       "      <th>Model</th>\n",
       "      <th>Description</th>\n",
       "      <th>Price</th>\n",
       "    </tr>\n",
       "  </thead>\n",
       "  <tbody>\n",
       "    <tr>\n",
       "      <th>0</th>\n",
       "      <td>1997</td>\n",
       "      <td>Ford</td>\n",
       "      <td>E350</td>\n",
       "      <td>ac, abs, moon</td>\n",
       "      <td>3000.0</td>\n",
       "    </tr>\n",
       "    <tr>\n",
       "      <th>1</th>\n",
       "      <td>1999</td>\n",
       "      <td>Chevy</td>\n",
       "      <td>Venture \"Extended Edition\"</td>\n",
       "      <td>NaN</td>\n",
       "      <td>4900.0</td>\n",
       "    </tr>\n",
       "    <tr>\n",
       "      <th>2</th>\n",
       "      <td>1999</td>\n",
       "      <td>Chevy</td>\n",
       "      <td>Venture \"Extended Edition, Very Large\"</td>\n",
       "      <td>NaN</td>\n",
       "      <td>5000.0</td>\n",
       "    </tr>\n",
       "    <tr>\n",
       "      <th>3</th>\n",
       "      <td>1996</td>\n",
       "      <td>Jeep</td>\n",
       "      <td>Grand Cherokee</td>\n",
       "      <td>MUST SELL!\\r\\nair, moon roof, loaded</td>\n",
       "      <td>4799.0</td>\n",
       "    </tr>\n",
       "  </tbody>\n",
       "</table>\n",
       "</div>"
      ],
      "text/plain": [
       "   Year   Make                                   Model  \\\n",
       "0  1997   Ford                                    E350   \n",
       "1  1999  Chevy              Venture \"Extended Edition\"   \n",
       "2  1999  Chevy  Venture \"Extended Edition, Very Large\"   \n",
       "3  1996   Jeep                          Grand Cherokee   \n",
       "\n",
       "                            Description   Price  \n",
       "0                         ac, abs, moon  3000.0  \n",
       "1                                   NaN  4900.0  \n",
       "2                                   NaN  5000.0  \n",
       "3  MUST SELL!\\r\\nair, moon roof, loaded  4799.0  "
      ]
     },
     "execution_count": 6,
     "metadata": {},
     "output_type": "execute_result"
    }
   ],
   "source": [
    "import pandas as pd\n",
    "pd.read_csv('car.csv')"
   ]
  },
  {
   "cell_type": "code",
   "execution_count": null,
   "id": "2a59d477",
   "metadata": {},
   "outputs": [],
   "source": []
  }
 ],
 "metadata": {
  "kernelspec": {
   "display_name": "Python 3",
   "language": "python",
   "name": "python3"
  },
  "language_info": {
   "codemirror_mode": {
    "name": "ipython",
    "version": 3
   },
   "file_extension": ".py",
   "mimetype": "text/x-python",
   "name": "python",
   "nbconvert_exporter": "python",
   "pygments_lexer": "ipython3",
   "version": "3.8.8"
  }
 },
 "nbformat": 4,
 "nbformat_minor": 5
}
